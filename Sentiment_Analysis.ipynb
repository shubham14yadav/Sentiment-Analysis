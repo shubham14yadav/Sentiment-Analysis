{
  "nbformat": 4,
  "nbformat_minor": 0,
  "metadata": {
    "colab": {
      "provenance": [],
      "authorship_tag": "ABX9TyNfwjBsWdzGXX96+hPZr/Kd",
      "include_colab_link": true
    },
    "kernelspec": {
      "name": "python3",
      "display_name": "Python 3"
    },
    "language_info": {
      "name": "python"
    }
  },
  "cells": [
    {
      "cell_type": "markdown",
      "metadata": {
        "id": "view-in-github",
        "colab_type": "text"
      },
      "source": [
        "<a href=\"https://colab.research.google.com/github/shubham14yadav/Sentiment-Analysis/blob/main/Sentiment_Analysis.ipynb\" target=\"_parent\"><img src=\"https://colab.research.google.com/assets/colab-badge.svg\" alt=\"Open In Colab\"/></a>"
      ]
    },
    {
      "cell_type": "code",
      "source": [
        "from nltk.sentiment.vader import SentimentIntensityAnalyzer\n",
        "\n",
        "# Download the required NLTK data\n",
        "nltk.download('vader_lexicon')\n",
        "\n",
        "# Create a SentimentIntensityAnalyzer object\n",
        "sia = SentimentIntensityAnalyzer()\n",
        "\n",
        "# Sample text\n",
        "text = \"This is a great movie! I really enjoyed watching it.\"\n",
        "\n",
        "# Perform sentiment analysis\n",
        "scores = sia.polarity_scores(text)\n",
        "\n",
        "# Print the sentiment scores\n",
        "print(scores)\n",
        "\n",
        "# Explain the sentiment scores\n",
        "if scores['compound'] >= 0.05:\n",
        "    print(\"The text has a positive sentiment.\")\n",
        "elif scores['compound'] <= -0.05:\n",
        "    print(\"The text has a negative sentiment.\")\n",
        "else:\n",
        "    print(\"The text has a neutral sentiment.\")\n",
        "    \n",
        "print(f\"The text has a positive score of {scores['pos']:.2f}, a negative score of {scores['neg']:.2f}, and a neutral score of {scores['neu']:.2f}.\")\n"
      ],
      "metadata": {
        "colab": {
          "base_uri": "https://localhost:8080/"
        },
        "id": "wh_1s-Yac5A6",
        "outputId": "2711a327-2941-44b3-f9da-559bf0de65d2"
      },
      "execution_count": 6,
      "outputs": [
        {
          "output_type": "stream",
          "name": "stdout",
          "text": [
            "{'neg': 0.0, 'neu': 0.429, 'pos': 0.571, 'compound': 0.8395}\n",
            "The text has a positive sentiment.\n",
            "The text has a positive score of 0.57, a negative score of 0.00, and a neutral score of 0.43.\n"
          ]
        }
      ]
    }
  ]
}