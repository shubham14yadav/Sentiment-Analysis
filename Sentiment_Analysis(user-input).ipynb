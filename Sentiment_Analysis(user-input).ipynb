{
  "nbformat": 4,
  "nbformat_minor": 0,
  "metadata": {
    "colab": {
      "provenance": [],
      "authorship_tag": "ABX9TyN19keJg3/QaAPoaDJYrNfw",
      "include_colab_link": true
    },
    "kernelspec": {
      "name": "python3",
      "display_name": "Python 3"
    },
    "language_info": {
      "name": "python"
    }
  },
  "cells": [
    {
      "cell_type": "markdown",
      "metadata": {
        "id": "view-in-github",
        "colab_type": "text"
      },
      "source": [
        "<a href=\"https://colab.research.google.com/github/shubham14yadav/Sentiment-Analysis/blob/main/Sentiment_Analysis(user-input).ipynb\" target=\"_parent\"><img src=\"https://colab.research.google.com/assets/colab-badge.svg\" alt=\"Open In Colab\"/></a>"
      ]
    },
    {
      "cell_type": "code",
      "source": [
        "#taking input from user\n",
        "\n",
        "import nltk\n",
        "from nltk.sentiment.vader import SentimentIntensityAnalyzer\n",
        "\n",
        "# Download the required NLTK data\n",
        "nltk.download('vader_lexicon')\n",
        "\n",
        "# Create a SentimentIntensityAnalyzer object\n",
        "sia = SentimentIntensityAnalyzer()\n",
        "\n",
        "# Sample text\n",
        "#text = \"This is a great movie! I really enjoyed watching it.\"\n",
        "\n",
        "# Take input from user\n",
        "text = input(\"Enter text to perform sentiment analysis: \")\n",
        "\n",
        "# Perform sentiment analysis\n",
        "scores = sia.polarity_scores(text)\n",
        "\n",
        "# Print the sentiment scores\n",
        "#print(scores)\n",
        "\n",
        "# Explain the sentiment scores\n",
        "if scores['compound'] >= 0.05:\n",
        "    print(\"The text has a positive sentiment.\")\n",
        "elif scores['compound'] <= -0.05:\n",
        "    print(\"The text has a negative sentiment.\")\n",
        "else:\n",
        "    print(\"The text has a neutral sentiment.\")\n",
        "    \n",
        "print(f\"The text has a positive score of {scores['pos']:.2f}, a negative score of {scores['neg']:.2f}, and a neutral score of {scores['neu']:.2f}.\")\n"
      ],
      "metadata": {
        "colab": {
          "base_uri": "https://localhost:8080/"
        },
        "id": "wh_1s-Yac5A6",
        "outputId": "e5eecfee-17fb-4f8a-b466-ce44abc70dab"
      },
      "execution_count": 4,
      "outputs": [
        {
          "output_type": "stream",
          "name": "stderr",
          "text": [
            "[nltk_data] Downloading package vader_lexicon to /root/nltk_data...\n"
          ]
        },
        {
          "output_type": "stream",
          "name": "stdout",
          "text": [
            "Enter text to perform sentiment analysis: i am not feeling too good\n",
            "{'neg': 0.557, 'neu': 0.443, 'pos': 0.0, 'compound': -0.4168}\n",
            "The text has a negative sentiment.\n",
            "The text has a positive score of 0.00, a negative score of 0.56, and a neutral score of 0.44.\n"
          ]
        }
      ]
    },
    {
      "cell_type": "code",
      "source": [],
      "metadata": {
        "id": "SC-wbysPrMCs"
      },
      "execution_count": 2,
      "outputs": []
    }
  ]
}